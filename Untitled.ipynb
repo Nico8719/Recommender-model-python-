{
 "cells": [
  {
   "cell_type": "code",
   "execution_count": 1,
   "id": "aa1abac7",
   "metadata": {},
   "outputs": [],
   "source": [
    "#1) Join Data frames \n",
    "#2) create a new df with only 'title' , 'movie_id' , 'keywords' , 'overview' , 'release_date' , 'cast' , 'crew' , 'genres'\n",
    "#3) check for missing values & #drop columns where movies are null because less ammount of movies \n",
    "#4) check for duplicate data \n",
    "\n",
    "#5) Clean genres\n",
    "#5) Clean keywords\n",
    "#6) Clean cast \n",
    "#7) Clean crew\n",
    "#8)Convert overview column to string and split the string into parts \n",
    "#9) Now we would remove the spaces from the columns this would be done to all columns \n",
    "#10) Finally create the tags column by splitting the df \n",
    "\n",
    "#11) "
   ]
  },
  {
   "cell_type": "code",
   "execution_count": 2,
   "id": "459a8c2d",
   "metadata": {},
   "outputs": [],
   "source": [
    "import pandas as pd \n",
    "import numpy as np"
   ]
  },
  {
   "cell_type": "code",
   "execution_count": 3,
   "id": "759c2f32",
   "metadata": {},
   "outputs": [],
   "source": [
    "movies = pd.read_csv('tmdb_5000_movies.csv')\n",
    "credits = pd.read_csv('tmdb_5000_credits.csv')"
   ]
  },
  {
   "cell_type": "code",
   "execution_count": 9,
   "id": "c5e24eff",
   "metadata": {},
   "outputs": [
    {
     "data": {
      "text/plain": [
       "array(['movie_id', 'title', 'cast', 'crew'], dtype=object)"
      ]
     },
     "execution_count": 9,
     "metadata": {},
     "output_type": "execute_result"
    }
   ],
   "source": [
    "movies.columns.values\n",
    "credits.columns.values"
   ]
  },
  {
   "cell_type": "code",
   "execution_count": 8,
   "id": "4fbf9d6f",
   "metadata": {},
   "outputs": [],
   "source": [
    "movies = movies.merge(credits , on = 'title')"
   ]
  },
  {
   "cell_type": "code",
   "execution_count": 10,
   "id": "ac3fad2b",
   "metadata": {},
   "outputs": [],
   "source": [
    "movies = movies[['title' , 'movie_id' , 'keywords' , 'overview' , 'cast' , 'crew' , 'genres']]"
   ]
  },
  {
   "cell_type": "code",
   "execution_count": 19,
   "id": "97a8b854",
   "metadata": {
    "collapsed": true
   },
   "outputs": [
    {
     "name": "stderr",
     "output_type": "stream",
     "text": [
      "/var/folders/yw/s44dmy757lg55pjn_4rn68m80000gn/T/ipykernel_7963/2419591666.py:2: SettingWithCopyWarning: \n",
      "A value is trying to be set on a copy of a slice from a DataFrame\n",
      "\n",
      "See the caveats in the documentation: https://pandas.pydata.org/pandas-docs/stable/user_guide/indexing.html#returning-a-view-versus-a-copy\n",
      "  movies.dropna(inplace = True)\n"
     ]
    }
   ],
   "source": [
    "movies.isnull().sum()\n",
    "movies.dropna(inplace = True)"
   ]
  },
  {
   "cell_type": "code",
   "execution_count": 24,
   "id": "16ae2f49",
   "metadata": {},
   "outputs": [
    {
     "data": {
      "text/plain": [
       "0"
      ]
     },
     "execution_count": 24,
     "metadata": {},
     "output_type": "execute_result"
    }
   ],
   "source": [
    "movies.duplicated().sum()"
   ]
  },
  {
   "cell_type": "code",
   "execution_count": 51,
   "id": "dab7f317",
   "metadata": {},
   "outputs": [
    {
     "data": {
      "text/html": [
       "<div>\n",
       "<style scoped>\n",
       "    .dataframe tbody tr th:only-of-type {\n",
       "        vertical-align: middle;\n",
       "    }\n",
       "\n",
       "    .dataframe tbody tr th {\n",
       "        vertical-align: top;\n",
       "    }\n",
       "\n",
       "    .dataframe thead th {\n",
       "        text-align: right;\n",
       "    }\n",
       "</style>\n",
       "<table border=\"1\" class=\"dataframe\">\n",
       "  <thead>\n",
       "    <tr style=\"text-align: right;\">\n",
       "      <th></th>\n",
       "      <th>title</th>\n",
       "      <th>movie_id</th>\n",
       "      <th>keywords</th>\n",
       "      <th>overview</th>\n",
       "      <th>cast</th>\n",
       "      <th>crew</th>\n",
       "      <th>genres</th>\n",
       "    </tr>\n",
       "  </thead>\n",
       "  <tbody>\n",
       "    <tr>\n",
       "      <th>0</th>\n",
       "      <td>Avatar</td>\n",
       "      <td>19995</td>\n",
       "      <td>[culture clash, future, space war, space colon...</td>\n",
       "      <td>In the 22nd century, a paraplegic Marine is di...</td>\n",
       "      <td>[Sam Worthington, Zoe Saldana, Sigourney Weaver]</td>\n",
       "      <td>[James Cameron]</td>\n",
       "      <td>[Action, Adventure, Fantasy, Science Fiction]</td>\n",
       "    </tr>\n",
       "    <tr>\n",
       "      <th>1</th>\n",
       "      <td>Pirates of the Caribbean: At World's End</td>\n",
       "      <td>285</td>\n",
       "      <td>[ocean, drug abuse, exotic island, east india ...</td>\n",
       "      <td>Captain Barbossa, long believed to be dead, ha...</td>\n",
       "      <td>[Johnny Depp, Orlando Bloom, Keira Knightley]</td>\n",
       "      <td>[Gore Verbinski]</td>\n",
       "      <td>[Adventure, Fantasy, Action]</td>\n",
       "    </tr>\n",
       "    <tr>\n",
       "      <th>2</th>\n",
       "      <td>Spectre</td>\n",
       "      <td>206647</td>\n",
       "      <td>[spy, based on novel, secret agent, sequel, mi...</td>\n",
       "      <td>A cryptic message from Bond’s past sends him o...</td>\n",
       "      <td>[Daniel Craig, Christoph Waltz, Léa Seydoux]</td>\n",
       "      <td>[Sam Mendes]</td>\n",
       "      <td>[Action, Adventure, Crime]</td>\n",
       "    </tr>\n",
       "    <tr>\n",
       "      <th>3</th>\n",
       "      <td>The Dark Knight Rises</td>\n",
       "      <td>49026</td>\n",
       "      <td>[dc comics, crime fighter, terrorist, secret i...</td>\n",
       "      <td>Following the death of District Attorney Harve...</td>\n",
       "      <td>[Christian Bale, Michael Caine, Gary Oldman]</td>\n",
       "      <td>[Christopher Nolan]</td>\n",
       "      <td>[Action, Crime, Drama, Thriller]</td>\n",
       "    </tr>\n",
       "    <tr>\n",
       "      <th>4</th>\n",
       "      <td>John Carter</td>\n",
       "      <td>49529</td>\n",
       "      <td>[based on novel, mars, medallion, space travel...</td>\n",
       "      <td>John Carter is a war-weary, former military ca...</td>\n",
       "      <td>[Taylor Kitsch, Lynn Collins, Samantha Morton]</td>\n",
       "      <td>[Andrew Stanton]</td>\n",
       "      <td>[Action, Adventure, Science Fiction]</td>\n",
       "    </tr>\n",
       "  </tbody>\n",
       "</table>\n",
       "</div>"
      ],
      "text/plain": [
       "                                      title  movie_id  \\\n",
       "0                                    Avatar     19995   \n",
       "1  Pirates of the Caribbean: At World's End       285   \n",
       "2                                   Spectre    206647   \n",
       "3                     The Dark Knight Rises     49026   \n",
       "4                               John Carter     49529   \n",
       "\n",
       "                                            keywords  \\\n",
       "0  [culture clash, future, space war, space colon...   \n",
       "1  [ocean, drug abuse, exotic island, east india ...   \n",
       "2  [spy, based on novel, secret agent, sequel, mi...   \n",
       "3  [dc comics, crime fighter, terrorist, secret i...   \n",
       "4  [based on novel, mars, medallion, space travel...   \n",
       "\n",
       "                                            overview  \\\n",
       "0  In the 22nd century, a paraplegic Marine is di...   \n",
       "1  Captain Barbossa, long believed to be dead, ha...   \n",
       "2  A cryptic message from Bond’s past sends him o...   \n",
       "3  Following the death of District Attorney Harve...   \n",
       "4  John Carter is a war-weary, former military ca...   \n",
       "\n",
       "                                               cast                 crew  \\\n",
       "0  [Sam Worthington, Zoe Saldana, Sigourney Weaver]      [James Cameron]   \n",
       "1     [Johnny Depp, Orlando Bloom, Keira Knightley]     [Gore Verbinski]   \n",
       "2      [Daniel Craig, Christoph Waltz, Léa Seydoux]         [Sam Mendes]   \n",
       "3      [Christian Bale, Michael Caine, Gary Oldman]  [Christopher Nolan]   \n",
       "4    [Taylor Kitsch, Lynn Collins, Samantha Morton]     [Andrew Stanton]   \n",
       "\n",
       "                                          genres  \n",
       "0  [Action, Adventure, Fantasy, Science Fiction]  \n",
       "1                   [Adventure, Fantasy, Action]  \n",
       "2                     [Action, Adventure, Crime]  \n",
       "3               [Action, Crime, Drama, Thriller]  \n",
       "4           [Action, Adventure, Science Fiction]  "
      ]
     },
     "execution_count": 51,
     "metadata": {},
     "output_type": "execute_result"
    }
   ],
   "source": [
    "movies.head()"
   ]
  },
  {
   "cell_type": "code",
   "execution_count": 26,
   "id": "b8dc1378",
   "metadata": {},
   "outputs": [],
   "source": [
    "import ast "
   ]
  },
  {
   "cell_type": "code",
   "execution_count": 27,
   "id": "b445b097",
   "metadata": {},
   "outputs": [],
   "source": [
    "def func1(obj): \n",
    "    l = []\n",
    "    for i in ast.literal_eval(obj):\n",
    "        l.append(i['name'])\n",
    "    return l "
   ]
  },
  {
   "cell_type": "code",
   "execution_count": 29,
   "id": "7e8e92e0",
   "metadata": {
    "collapsed": true
   },
   "outputs": [
    {
     "name": "stderr",
     "output_type": "stream",
     "text": [
      "/var/folders/yw/s44dmy757lg55pjn_4rn68m80000gn/T/ipykernel_7963/443491181.py:1: SettingWithCopyWarning: \n",
      "A value is trying to be set on a copy of a slice from a DataFrame.\n",
      "Try using .loc[row_indexer,col_indexer] = value instead\n",
      "\n",
      "See the caveats in the documentation: https://pandas.pydata.org/pandas-docs/stable/user_guide/indexing.html#returning-a-view-versus-a-copy\n",
      "  movies['genres'] = movies['genres'].apply(func1)\n"
     ]
    }
   ],
   "source": [
    "movies['genres'] = movies['genres'].apply(func1)"
   ]
  },
  {
   "cell_type": "code",
   "execution_count": 30,
   "id": "01428e5c",
   "metadata": {
    "collapsed": true
   },
   "outputs": [
    {
     "name": "stderr",
     "output_type": "stream",
     "text": [
      "/var/folders/yw/s44dmy757lg55pjn_4rn68m80000gn/T/ipykernel_7963/69564021.py:1: SettingWithCopyWarning: \n",
      "A value is trying to be set on a copy of a slice from a DataFrame.\n",
      "Try using .loc[row_indexer,col_indexer] = value instead\n",
      "\n",
      "See the caveats in the documentation: https://pandas.pydata.org/pandas-docs/stable/user_guide/indexing.html#returning-a-view-versus-a-copy\n",
      "  movies['keywords'] = movies['keywords'].apply(func1)\n"
     ]
    }
   ],
   "source": [
    "movies['keywords'] = movies['keywords'].apply(func1)"
   ]
  },
  {
   "cell_type": "code",
   "execution_count": 33,
   "id": "365caefa",
   "metadata": {},
   "outputs": [],
   "source": [
    "def func2(obj):\n",
    "    l = []\n",
    "    counter = 0\n",
    "    for i in ast.literal_eval(obj): \n",
    "        if counter != 3:\n",
    "            l.append(i['name'])\n",
    "            counter += 1\n",
    "        else:\n",
    "            break \n",
    "    return l"
   ]
  },
  {
   "cell_type": "code",
   "execution_count": 35,
   "id": "f9cbe1e0",
   "metadata": {},
   "outputs": [],
   "source": [
    "movies['cast'] = movies['cast'].apply(func2)"
   ]
  },
  {
   "cell_type": "code",
   "execution_count": 48,
   "id": "cfd25171",
   "metadata": {},
   "outputs": [],
   "source": [
    "def func3(obj):\n",
    "    l = []\n",
    "    for i in ast.literal_eval(obj):\n",
    "        if i['job'] == 'Director':\n",
    "            l.append(i['name'])\n",
    "            break \n",
    "    return l \n"
   ]
  },
  {
   "cell_type": "code",
   "execution_count": 50,
   "id": "5cf19561",
   "metadata": {},
   "outputs": [],
   "source": [
    "movies['crew'] = movies['crew'].apply(func3)"
   ]
  },
  {
   "cell_type": "code",
   "execution_count": 55,
   "id": "7a1116a0",
   "metadata": {},
   "outputs": [],
   "source": [
    "movies['overview'] = movies['overview'].apply(lambda x : x.split())"
   ]
  },
  {
   "cell_type": "code",
   "execution_count": 73,
   "id": "e579d23f",
   "metadata": {},
   "outputs": [],
   "source": [
    "movies['crew'] = movies['crew'].apply(lambda x : [i.replace(' ', '') for i in x])"
   ]
  },
  {
   "cell_type": "code",
   "execution_count": null,
   "id": "fc6c86f4",
   "metadata": {},
   "outputs": [],
   "source": [
    "movies['cast'] = movies['cast'].apply(lambda x : [i.])"
   ]
  },
  {
   "cell_type": "code",
   "execution_count": 67,
   "id": "dc73b2cb",
   "metadata": {},
   "outputs": [],
   "source": [
    "def func4(obj):\n",
    "    l = []\n",
    "    for i in obj:\n",
    "        l.append(i.replace(' ' , ''))\n",
    "    return l "
   ]
  },
  {
   "cell_type": "code",
   "execution_count": 74,
   "id": "9682f1b6",
   "metadata": {},
   "outputs": [],
   "source": [
    "movies['keywords'] = movies['keywords'].apply(lambda x : [i.replace(' ' , '') for i in x]) "
   ]
  },
  {
   "cell_type": "code",
   "execution_count": 75,
   "id": "5be455dc",
   "metadata": {},
   "outputs": [],
   "source": [
    "movies['genres'] = movies['genres'].apply(func4)"
   ]
  },
  {
   "cell_type": "code",
   "execution_count": 77,
   "id": "9af0fd59",
   "metadata": {},
   "outputs": [],
   "source": [
    "movies['tags'] = movies['keywords'] + movies['genres'] + movies['cast'] + movies['crew'] + movies['overview']"
   ]
  },
  {
   "cell_type": "code",
   "execution_count": 78,
   "id": "d2a4fe11",
   "metadata": {},
   "outputs": [],
   "source": [
    "movies = movies[['title' , 'tags']]"
   ]
  },
  {
   "cell_type": "code",
   "execution_count": 79,
   "id": "cd4e8325",
   "metadata": {},
   "outputs": [
    {
     "data": {
      "text/html": [
       "<div>\n",
       "<style scoped>\n",
       "    .dataframe tbody tr th:only-of-type {\n",
       "        vertical-align: middle;\n",
       "    }\n",
       "\n",
       "    .dataframe tbody tr th {\n",
       "        vertical-align: top;\n",
       "    }\n",
       "\n",
       "    .dataframe thead th {\n",
       "        text-align: right;\n",
       "    }\n",
       "</style>\n",
       "<table border=\"1\" class=\"dataframe\">\n",
       "  <thead>\n",
       "    <tr style=\"text-align: right;\">\n",
       "      <th></th>\n",
       "      <th>title</th>\n",
       "      <th>tags</th>\n",
       "    </tr>\n",
       "  </thead>\n",
       "  <tbody>\n",
       "    <tr>\n",
       "      <th>0</th>\n",
       "      <td>Avatar</td>\n",
       "      <td>[cultureclash, future, spacewar, spacecolony, ...</td>\n",
       "    </tr>\n",
       "    <tr>\n",
       "      <th>1</th>\n",
       "      <td>Pirates of the Caribbean: At World's End</td>\n",
       "      <td>[ocean, drugabuse, exoticisland, eastindiatrad...</td>\n",
       "    </tr>\n",
       "    <tr>\n",
       "      <th>2</th>\n",
       "      <td>Spectre</td>\n",
       "      <td>[spy, basedonnovel, secretagent, sequel, mi6, ...</td>\n",
       "    </tr>\n",
       "    <tr>\n",
       "      <th>3</th>\n",
       "      <td>The Dark Knight Rises</td>\n",
       "      <td>[dccomics, crimefighter, terrorist, secretiden...</td>\n",
       "    </tr>\n",
       "    <tr>\n",
       "      <th>4</th>\n",
       "      <td>John Carter</td>\n",
       "      <td>[basedonnovel, mars, medallion, spacetravel, p...</td>\n",
       "    </tr>\n",
       "    <tr>\n",
       "      <th>...</th>\n",
       "      <td>...</td>\n",
       "      <td>...</td>\n",
       "    </tr>\n",
       "    <tr>\n",
       "      <th>4804</th>\n",
       "      <td>El Mariachi</td>\n",
       "      <td>[unitedstates–mexicobarrier, legs, arms, paper...</td>\n",
       "    </tr>\n",
       "    <tr>\n",
       "      <th>4805</th>\n",
       "      <td>Newlyweds</td>\n",
       "      <td>[Comedy, Romance, EdwardBurns, KerryBishé, Mar...</td>\n",
       "    </tr>\n",
       "    <tr>\n",
       "      <th>4806</th>\n",
       "      <td>Signed, Sealed, Delivered</td>\n",
       "      <td>[date, loveatfirstsight, narration, investigat...</td>\n",
       "    </tr>\n",
       "    <tr>\n",
       "      <th>4807</th>\n",
       "      <td>Shanghai Calling</td>\n",
       "      <td>[DanielHenney, ElizaCoupe, BillPaxton, DanielH...</td>\n",
       "    </tr>\n",
       "    <tr>\n",
       "      <th>4808</th>\n",
       "      <td>My Date with Drew</td>\n",
       "      <td>[obsession, camcorder, crush, dreamgirl, Docum...</td>\n",
       "    </tr>\n",
       "  </tbody>\n",
       "</table>\n",
       "<p>4806 rows × 2 columns</p>\n",
       "</div>"
      ],
      "text/plain": [
       "                                         title  \\\n",
       "0                                       Avatar   \n",
       "1     Pirates of the Caribbean: At World's End   \n",
       "2                                      Spectre   \n",
       "3                        The Dark Knight Rises   \n",
       "4                                  John Carter   \n",
       "...                                        ...   \n",
       "4804                               El Mariachi   \n",
       "4805                                 Newlyweds   \n",
       "4806                 Signed, Sealed, Delivered   \n",
       "4807                          Shanghai Calling   \n",
       "4808                         My Date with Drew   \n",
       "\n",
       "                                                   tags  \n",
       "0     [cultureclash, future, spacewar, spacecolony, ...  \n",
       "1     [ocean, drugabuse, exoticisland, eastindiatrad...  \n",
       "2     [spy, basedonnovel, secretagent, sequel, mi6, ...  \n",
       "3     [dccomics, crimefighter, terrorist, secretiden...  \n",
       "4     [basedonnovel, mars, medallion, spacetravel, p...  \n",
       "...                                                 ...  \n",
       "4804  [unitedstates–mexicobarrier, legs, arms, paper...  \n",
       "4805  [Comedy, Romance, EdwardBurns, KerryBishé, Mar...  \n",
       "4806  [date, loveatfirstsight, narration, investigat...  \n",
       "4807  [DanielHenney, ElizaCoupe, BillPaxton, DanielH...  \n",
       "4808  [obsession, camcorder, crush, dreamgirl, Docum...  \n",
       "\n",
       "[4806 rows x 2 columns]"
      ]
     },
     "execution_count": 79,
     "metadata": {},
     "output_type": "execute_result"
    }
   ],
   "source": [
    "movies"
   ]
  },
  {
   "cell_type": "code",
   "execution_count": 81,
   "id": "c8d6c85d",
   "metadata": {},
   "outputs": [],
   "source": [
    "import nltk \n",
    "from nltk.stem.porter import PorterStemmer\n",
    "ps = PorterStemmer()"
   ]
  },
  {
   "cell_type": "code",
   "execution_count": 84,
   "id": "cb5eaa97",
   "metadata": {},
   "outputs": [],
   "source": [
    "def func5(obj): \n",
    "    l = []\n",
    "    for i in obj:\n",
    "        l.append(ps.stem(i))\n",
    "    return \" \".join(l) "
   ]
  },
  {
   "cell_type": "code",
   "execution_count": 86,
   "id": "8c686a72",
   "metadata": {
    "collapsed": true
   },
   "outputs": [
    {
     "name": "stderr",
     "output_type": "stream",
     "text": [
      "/var/folders/yw/s44dmy757lg55pjn_4rn68m80000gn/T/ipykernel_7963/2359202410.py:1: SettingWithCopyWarning: \n",
      "A value is trying to be set on a copy of a slice from a DataFrame.\n",
      "Try using .loc[row_indexer,col_indexer] = value instead\n",
      "\n",
      "See the caveats in the documentation: https://pandas.pydata.org/pandas-docs/stable/user_guide/indexing.html#returning-a-view-versus-a-copy\n",
      "  movies['tags'] = movies['tags'].apply(func5)\n"
     ]
    }
   ],
   "source": [
    "movies['tags'] = movies['tags'].apply(func5)"
   ]
  },
  {
   "cell_type": "code",
   "execution_count": 87,
   "id": "c858e2cd",
   "metadata": {},
   "outputs": [],
   "source": [
    "from sklearn.feature_extraction.text import CountVectorizer\n",
    "cv = CountVectorizer(max_features = 5000 , stop_words= 'english')"
   ]
  },
  {
   "cell_type": "code",
   "execution_count": 93,
   "id": "921cb20a",
   "metadata": {},
   "outputs": [],
   "source": [
    "vectors = cv.fit_transform(movies['tags']).toarray()"
   ]
  },
  {
   "cell_type": "code",
   "execution_count": 94,
   "id": "960d3145",
   "metadata": {},
   "outputs": [
    {
     "data": {
      "text/plain": [
       "array([[0, 0, 0, ..., 0, 0, 0],\n",
       "       [0, 0, 0, ..., 0, 0, 0],\n",
       "       [0, 0, 0, ..., 0, 0, 0],\n",
       "       ...,\n",
       "       [0, 0, 0, ..., 0, 0, 0],\n",
       "       [0, 0, 0, ..., 0, 0, 0],\n",
       "       [0, 0, 0, ..., 0, 0, 0]])"
      ]
     },
     "execution_count": 94,
     "metadata": {},
     "output_type": "execute_result"
    }
   ],
   "source": [
    "vectors "
   ]
  },
  {
   "cell_type": "code",
   "execution_count": 95,
   "id": "8fa9c714",
   "metadata": {},
   "outputs": [],
   "source": [
    "#Find cosign distance \n",
    "from sklearn.metrics.pairwise import cosine_similarity"
   ]
  },
  {
   "cell_type": "code",
   "execution_count": 97,
   "id": "aefc84d0",
   "metadata": {},
   "outputs": [],
   "source": [
    "similarity = cosine_similarity(vectors)"
   ]
  },
  {
   "cell_type": "code",
   "execution_count": 136,
   "id": "9b13fc8c",
   "metadata": {},
   "outputs": [],
   "source": [
    "        \n",
    "def func8(obj):\n",
    "    movies_index = movies[movies['title'] == obj].index[0]\n",
    "    distance = similarity[movies_index]\n",
    "    movie_list = sorted(list(enumerate(distance)) , reverse= True , key= lambda x : x[1])[1:6]\n",
    "    \n",
    "    for i in movie_list:\n",
    "        print(movies.iloc[i[0],0])"
   ]
  },
  {
   "cell_type": "code",
   "execution_count": 137,
   "id": "148a2102",
   "metadata": {},
   "outputs": [
    {
     "name": "stdout",
     "output_type": "stream",
     "text": [
      "Aliens vs Predator: Requiem\n",
      "Aliens\n",
      "Falcon Rising\n",
      "Independence Day\n",
      "Titan A.E.\n"
     ]
    }
   ],
   "source": [
    "func8('Avatar')"
   ]
  },
  {
   "cell_type": "code",
   "execution_count": 132,
   "id": "0475c70c",
   "metadata": {},
   "outputs": [
    {
     "data": {
      "text/plain": [
       "'Avatar'"
      ]
     },
     "execution_count": 132,
     "metadata": {},
     "output_type": "execute_result"
    }
   ],
   "source": [
    "movies.iloc[0 , 0]"
   ]
  },
  {
   "cell_type": "code",
   "execution_count": null,
   "id": "33139b2d",
   "metadata": {},
   "outputs": [],
   "source": []
  }
 ],
 "metadata": {
  "kernelspec": {
   "display_name": "Python 3 (ipykernel)",
   "language": "python",
   "name": "python3"
  },
  "language_info": {
   "codemirror_mode": {
    "name": "ipython",
    "version": 3
   },
   "file_extension": ".py",
   "mimetype": "text/x-python",
   "name": "python",
   "nbconvert_exporter": "python",
   "pygments_lexer": "ipython3",
   "version": "3.9.12"
  }
 },
 "nbformat": 4,
 "nbformat_minor": 5
}
